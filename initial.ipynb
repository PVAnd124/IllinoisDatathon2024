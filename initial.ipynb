{
 "cells": [
  {
   "cell_type": "code",
   "execution_count": 23,
   "metadata": {},
   "outputs": [],
   "source": [
    "import pandas as pd\n",
    "df3 = pd.read_csv(r'C:\\Users\\prave\\Downloads\\Data\\file_3_Mar18_Output_1.csv')\n",
    "df4 = pd.read_csv(r'C:\\Users\\prave\\Downloads\\Data\\file_4_Mar18_Output_1 (1).csv')"
   ]
  },
  {
   "cell_type": "code",
   "execution_count": 27,
   "metadata": {},
   "outputs": [
    {
     "name": "stdout",
     "output_type": "stream",
     "text": [
      "60498\n"
     ]
    }
   ],
   "source": [
    "#conc_df = pd.concat([df3, df4], axis=1, ignore_index=True)\n",
    "\n",
    "# Read the CSV file into a DataFrame\n",
    "df = pd.read_csv(df3)\n",
    "\n",
    "# Remove the column\n",
    "column_to_remove = 'column_name'\n",
    "df = df.drop(columns=column_to_remove)\n",
    "\n",
    "# Save the modified DataFrame back to a CSV file\n",
    "df.to_csv('modified_file.csv', index=False)\n",
    "\n",
    "\n",
    "df3 = df3.dropna(axis=1, how='any')\n",
    "df4 = df4.dropna(axis=1, how='any')\n",
    "\n",
    "print(len(df3) + len(df4))"
   ]
  },
  {
   "cell_type": "code",
   "execution_count": 12,
   "metadata": {},
   "outputs": [],
   "source": [
    "df5 = pd.concat([df3, df4])\n",
    "\n",
    "df5.to_csv(r\"C:\\Users\\subbu\\Desktop\\Datathon\\IllinoisDatathon2024\\ConcatData\")"
   ]
  },
  {
   "cell_type": "code",
   "execution_count": 13,
   "metadata": {},
   "outputs": [
    {
     "data": {
      "text/plain": [
       "60498"
      ]
     },
     "execution_count": 13,
     "metadata": {},
     "output_type": "execute_result"
    }
   ],
   "source": [
    "len(df5)"
   ]
  },
  {
   "cell_type": "code",
   "execution_count": null,
   "metadata": {},
   "outputs": [],
   "source": []
  }
 ],
 "metadata": {
  "kernelspec": {
   "display_name": "Python 3",
   "language": "python",
   "name": "python3"
  },
  "language_info": {
   "codemirror_mode": {
    "name": "ipython",
    "version": 3
   },
   "file_extension": ".py",
   "mimetype": "text/x-python",
   "name": "python",
   "nbconvert_exporter": "python",
   "pygments_lexer": "ipython3",
   "version": "3.12.1"
  }
 },
 "nbformat": 4,
 "nbformat_minor": 2
}
