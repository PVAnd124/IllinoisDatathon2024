{
 "cells": [
  {
   "cell_type": "code",
   "execution_count": 27,
   "metadata": {},
   "outputs": [],
   "source": [
    "import pandas as pd\n",
    "\n",
    "df3 = pd.read_csv(\"f3.csv\")\n",
    "df4 = pd.read_csv(\"f4.csv\")"
   ]
  },
  {
   "cell_type": "code",
   "execution_count": 28,
   "metadata": {},
   "outputs": [
    {
     "name": "stdout",
     "output_type": "stream",
     "text": [
      "timestamp_call_key : 0\n",
      "retailer_code : 0\n",
      "serial : 0\n",
      "reason : 0\n",
      "mos : 0\n",
      "resolved : 0\n",
      "no_of_accounts_with_syf_13_march : 3078\n",
      "account_balance_13_march : 66580\n",
      "delinquency_history_13_march : 0\n",
      "account_open_date_13_march : 0\n",
      "account_status_13_march : 880885\n",
      "card_activation_status_13_march : 0\n",
      "eservice_ind_13_march : 0\n",
      "ebill_enrolled_status_13_march : 1440\n",
      "auto_pay_enrolled_status_13_march : 0\n",
      "no_of_accounts_with_syf_18_march : 3079\n",
      "account_balance_18_march : 61780\n",
      "delinquency_history_18_march : 0\n",
      "account_open_date_18_march : 0\n",
      "account_status_18_march : 864982\n",
      "card_activation_status_18_march : 0\n",
      "eservice_ind_18_march : 0\n",
      "ebill_enrolled_status_18_march : 2042\n",
      "auto_pay_enrolled_status_18_march : 0\n",
      "------------------------------------------\n",
      "timestamp_call_key : 0\n",
      "retailer_code : 0\n",
      "serial : 0\n",
      "reason : 0\n",
      "mos : 0\n",
      "resolved : 0\n",
      "no_of_accounts_with_syf_13_march : 322\n",
      "account_balance_13_march : 47202\n",
      "delinquency_history_13_march : 0\n",
      "account_open_date_13_march : 0\n",
      "account_status_13_march : 851883\n",
      "card_activation_status_13_march : 0\n",
      "eservice_ind_13_march : 0\n",
      "ebill_enrolled_status_13_march : 3496\n",
      "auto_pay_enrolled_status_13_march : 0\n",
      "no_of_accounts_with_syf_18_march : 323\n",
      "account_balance_18_march : 40049\n",
      "delinquency_history_18_march : 0\n",
      "account_open_date_18_march : 0\n",
      "account_status_18_march : 838468\n",
      "card_activation_status_18_march : 0\n",
      "eservice_ind_18_march : 0\n",
      "ebill_enrolled_status_18_march : 4716\n",
      "auto_pay_enrolled_status_18_march : 0\n"
     ]
    }
   ],
   "source": [
    "# df3 = df3.dropna()\n",
    "# df4 = df4.dropna()\n",
    "\n",
    "for col in df3.columns:\n",
    "    print(col, \":\" , df3[col].isnull().sum())\n",
    "\n",
    "print(\"------------------------------------------\")\n",
    "\n",
    "for col in df3.columns:\n",
    "    print(col, \":\" , df4[col].isnull().sum())"
   ]
  },
  {
   "cell_type": "code",
   "execution_count": 29,
   "metadata": {},
   "outputs": [],
   "source": [
    "df3 = df3.drop(columns=[\"account_status_18_march\", \"account_status_13_march\", \"account_balance_18_march\", \"account_balance_13_march\"])\n",
    "df4 = df4.drop(columns=[\"account_status_18_march\", \"account_status_13_march\", \"account_balance_18_march\", \"account_balance_13_march\"])\n",
    "\n",
    "df3 = df3.dropna()\n",
    "df4 = df4.dropna()\n"
   ]
  },
  {
   "cell_type": "code",
   "execution_count": null,
   "metadata": {},
   "outputs": [],
   "source": [
    "df3.to_csv(r\"C:/Users/subbu/Desktop/Datathon/file3\")\n",
    "df4.to_csv(r\"C:/Users/subbu/Desktop/Datathon/file4\")"
   ]
  }
 ],
 "metadata": {
  "kernelspec": {
   "display_name": "Python 3",
   "language": "python",
   "name": "python3"
  },
  "language_info": {
   "codemirror_mode": {
    "name": "ipython",
    "version": 3
   },
   "file_extension": ".py",
   "mimetype": "text/x-python",
   "name": "python",
   "nbconvert_exporter": "python",
   "pygments_lexer": "ipython3",
   "version": "3.12.2"
  }
 },
 "nbformat": 4,
 "nbformat_minor": 2
}
