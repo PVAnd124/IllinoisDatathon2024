{
 "cells": [
  {
   "cell_type": "code",
   "execution_count": 18,
   "metadata": {},
   "outputs": [
    {
     "name": "stdout",
     "output_type": "stream",
     "text": [
      "1.30.0\n"
     ]
    },
    {
     "ename": "AttributeError",
     "evalue": "'EntitySet' object has no attribute 'entity_from_dataframe'",
     "output_type": "error",
     "traceback": [
      "\u001b[1;31m---------------------------------------------------------------------------\u001b[0m",
      "\u001b[1;31mAttributeError\u001b[0m                            Traceback (most recent call last)",
      "Cell \u001b[1;32mIn[18], line 21\u001b[0m\n\u001b[0;32m     19\u001b[0m     num \u001b[38;5;241m=\u001b[39m num \u001b[38;5;241m+\u001b[39m \u001b[38;5;241m1\u001b[39m\n\u001b[0;32m     20\u001b[0m     entity_name \u001b[38;5;241m=\u001b[39m num, \u001b[38;5;124m\"\u001b[39m\u001b[38;5;124m_Entity\u001b[39m\u001b[38;5;124m\"\u001b[39m\n\u001b[1;32m---> 21\u001b[0m     \u001b[43mes\u001b[49m\u001b[38;5;241;43m.\u001b[39;49m\u001b[43mentity_from_dataframe\u001b[49m(entity_id\u001b[38;5;241m=\u001b[39m\u001b[38;5;124m'\u001b[39m\u001b[38;5;124mentity_name\u001b[39m\u001b[38;5;124m'\u001b[39m, dataframe\u001b[38;5;241m=\u001b[39mdf3, index\u001b[38;5;241m=\u001b[39mcol\u001b[38;5;241m.\u001b[39mname)\n\u001b[0;32m     23\u001b[0m \u001b[38;5;66;03m# Automatic feature engineering using deep feature synthesis (dfs)\u001b[39;00m\n\u001b[0;32m     24\u001b[0m features, feature_names \u001b[38;5;241m=\u001b[39m ft\u001b[38;5;241m.\u001b[39mdfs(entityset\u001b[38;5;241m=\u001b[39mes, target_entity\u001b[38;5;241m=\u001b[39m\u001b[38;5;124m'\u001b[39m\u001b[38;5;124myour_entity\u001b[39m\u001b[38;5;124m'\u001b[39m, max_depth\u001b[38;5;241m=\u001b[39m\u001b[38;5;241m2\u001b[39m)\n",
      "\u001b[1;31mAttributeError\u001b[0m: 'EntitySet' object has no attribute 'entity_from_dataframe'"
     ]
    }
   ],
   "source": [
    "import pandas as pd\n",
    "import featuretools as ft\n",
    "\n",
    "# Load your dataset\n",
    "df1 = pd.read_csv(r'C:\\Users\\prave\\Downloads\\Data\\file3\\file3.csv')\n",
    "df2 = pd.read_csv(r'C:\\Users\\prave\\Downloads\\Data\\file3\\file4.csv')\n",
    "df3 = pd.concat([df1, df2])\n",
    "\n",
    "# Define an entity in the EntitySet using the DataFrame\n",
    "#es.entity_from_dataframe(entity_id='entity_name', dataframe=df, index='index_column')\n",
    "\n",
    "# Create an EntitySet and add the DataFrame as an entity\n",
    "es = ft.EntitySet(id='Data_EntitySet')\n",
    "num=1;\n",
    "#import featuretools as ft\n",
    "print(ft.__version__)\n",
    "\n",
    "for col in df3.columns:\n",
    "    num = num + 1\n",
    "    entity_name = num, \"_Entity\"\n",
    "    es.entity_from_dataframe(entity_id='entity_name', dataframe=df3, index=col.name)\n",
    "\n",
    "# Automatic feature engineering using deep feature synthesis (dfs)\n",
    "features, feature_names = ft.dfs(entityset=es, target_entity='your_entity', max_depth=2)\n",
    "\n",
    "# View the generated features\n",
    "print(features.head())\n",
    "print(feature_names)\n"
   ]
  }
 ],
 "metadata": {
  "kernelspec": {
   "display_name": "Python 3",
   "language": "python",
   "name": "python3"
  },
  "language_info": {
   "codemirror_mode": {
    "name": "ipython",
    "version": 3
   },
   "file_extension": ".py",
   "mimetype": "text/x-python",
   "name": "python",
   "nbconvert_exporter": "python",
   "pygments_lexer": "ipython3",
   "version": "3.12.1"
  }
 },
 "nbformat": 4,
 "nbformat_minor": 2
}
